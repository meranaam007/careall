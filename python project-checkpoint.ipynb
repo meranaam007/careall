{
 "cells": [
  {
   "cell_type": "code",
   "execution_count": null,
   "metadata": {},
   "outputs": [],
   "source": [
    "class Caregiving:\n",
    "    \n",
    "    \n",
    "    def __init__(self,Eldrelyperson,Youngfolks)\n",
    "    self.Eldrelyperson = Eldrelyperson\n",
    "    self.Youngfolks = Youngfolks \n",
    "    \n",
    "    \n",
    "    def login(self,username,password)\n",
    "    self.username = username\n",
    "    self.password = password\n",
    "\n",
    "\n",
    "\n",
    "\n",
    "class Eldrelyperson:\n",
    "    def __init__(self,username,email,password,name,phone_number)\n",
    "    self.username = username\n",
    "    self.email = email\n",
    "    self.phone_number = phone_number\n",
    "    self.is_active = True\n",
    "    \n",
    "    \n",
    "    \n",
    "class Youngfolks:\n",
    "    \n",
    "    elderly_cust = []\n",
    "    count = 0\n",
    "    def __init__(self,username,email,password,name,phone_number)\n",
    "    self.username = username\n",
    "    self.email = email\n",
    "    self.phone_number = phone_number\n",
    "\n"
   ]
  }
 ],
 "metadata": {
  "kernelspec": {
   "display_name": "Python 3",
   "language": "python",
   "name": "python3"
  },
  "language_info": {
   "codemirror_mode": {
    "name": "ipython",
    "version": 3
   },
   "file_extension": ".py",
   "mimetype": "text/x-python",
   "name": "python",
   "nbconvert_exporter": "python",
   "pygments_lexer": "ipython3",
   "version": "3.7.6"
  }
 },
 "nbformat": 4,
 "nbformat_minor": 4
}
