{
 "cells": [
  {
   "cell_type": "code",
   "execution_count": 3,
   "metadata": {},
   "outputs": [],
   "source": [
    "class Caregiving:\n",
    "    \n",
    "    \n",
    "    def __init__(self,Eldrelyperson,Youngfolks):\n",
    "        self.Eldrelyperson = Eldrelyperson\n",
    "        self.Youngfolks = Youngfolks \n",
    "    \n",
    "    \n",
    "    def login(self,username,password):\n",
    "        self.username = username\n",
    "        self.password = password\n",
    "    \n",
    "    \n",
    "class Elderlypersons:\n",
    "    \n",
    "    elderlyones = []\n",
    "    count = 0\n",
    "    \n",
    "    def __init__(self,username,email,password,name,phone_number,rating):\n",
    "        self.username = username\n",
    "        self.email = email\n",
    "        self.phone_number = phone_number\n",
    "        self.rating = rating\n",
    "        self.is_active = True\n",
    "        Elderlypersons.elderlyones.append(self)\n",
    "    \n",
    "    def get_details(self):\n",
    "        return self.username,self.email,self.phone_number\n",
    "     \n",
    "    \n",
    "    \n",
    "class Youngfolks:\n",
    "    \n",
    "    young_folks = []\n",
    "    count = 0\n",
    "    \n",
    "    def __init__(self,username,email,password,name,phone_number,rating):\n",
    "        self.username = username\n",
    "        self.email = email\n",
    "        self.phone_number = phone_number\n",
    "        self.rating = rating\n",
    "        Youngfolks.young_folks.append(self)\n",
    "    \n",
    "    \n",
    "    def get_details(self):\n",
    "        return self.username,self.email,self.phone_number\n",
    "     \n"
   ]
  },
  {
   "cell_type": "code",
   "execution_count": 9,
   "metadata": {},
   "outputs": [],
   "source": [
    "elder1 = Elderlypersons(\"abc8\",\"abc8@xyz.com\",\"abc8@123\",\"abcdef8\",\"912345678\",5)\n",
    "elder2 = Elderlypersons(\"abc5\",\"abc5@xyz.com\",\"abc5@123\",\"abcdef5\",\"912345678\",6)\n",
    "elder3 = Elderlypersons(\"abc6\",\"abc6@xyz.com\",\"abc6@123\",\"abcdef6\",\"912345678\",9)\n",
    "elder4 = Elderlypersons(\"abc7\",\"abc7@xyz.com\",\"abc7@123\",\"abcdef7\",\"912345678\",8)"
   ]
  },
  {
   "cell_type": "code",
   "execution_count": 5,
   "metadata": {},
   "outputs": [
    {
     "name": "stdout",
     "output_type": "stream",
     "text": [
      "[<__main__.Elderlypersons object at 0x060C5130>, <__main__.Elderlypersons object at 0x060C5110>, <__main__.Elderlypersons object at 0x060C5150>, <__main__.Elderlypersons object at 0x060C5170>]\n"
     ]
    }
   ],
   "source": [
    "print(Elderlypersons.elderlyones)"
   ]
  },
  {
   "cell_type": "code",
   "execution_count": 6,
   "metadata": {},
   "outputs": [
    {
     "ename": "AttributeError",
     "evalue": "'Elderlypersons' object has no attribute 'Elderlypersons'",
     "output_type": "error",
     "traceback": [
      "\u001b[1;31m---------------------------------------------------------------------------\u001b[0m",
      "\u001b[1;31mAttributeError\u001b[0m                            Traceback (most recent call last)",
      "\u001b[1;32m<ipython-input-6-b661d86c80b7>\u001b[0m in \u001b[0;36m<module>\u001b[1;34m\u001b[0m\n\u001b[0;32m      1\u001b[0m \u001b[1;32mfor\u001b[0m \u001b[0melder\u001b[0m \u001b[1;32min\u001b[0m \u001b[0mElderlypersons\u001b[0m\u001b[1;33m.\u001b[0m\u001b[0melderlyones\u001b[0m\u001b[1;33m:\u001b[0m\u001b[1;33m\u001b[0m\u001b[1;33m\u001b[0m\u001b[0m\n\u001b[1;32m----> 2\u001b[1;33m     \u001b[1;32mif\u001b[0m \u001b[0melder\u001b[0m\u001b[1;33m.\u001b[0m\u001b[0mElderlypersons\u001b[0m\u001b[1;33m.\u001b[0m\u001b[0memail\u001b[0m \u001b[1;33m==\u001b[0m \u001b[1;34m\"abc@123\"\u001b[0m\u001b[1;33m:\u001b[0m\u001b[1;33m\u001b[0m\u001b[1;33m\u001b[0m\u001b[0m\n\u001b[0m\u001b[0;32m      3\u001b[0m         \u001b[0mprint\u001b[0m\u001b[1;33m(\u001b[0m\u001b[0melder\u001b[0m\u001b[1;33m.\u001b[0m\u001b[0mget_details\u001b[0m\u001b[1;33m(\u001b[0m\u001b[1;33m)\u001b[0m\u001b[1;33m)\u001b[0m\u001b[1;33m\u001b[0m\u001b[1;33m\u001b[0m\u001b[0m\n",
      "\u001b[1;31mAttributeError\u001b[0m: 'Elderlypersons' object has no attribute 'Elderlypersons'"
     ]
    }
   ],
   "source": [
    "for elder in Elderlypersons.elderlyones:\n",
    "    if elder.Elderlypersons.email == \"abc@123\":\n",
    "        print(elder.get_details())"
   ]
  },
  {
   "cell_type": "code",
   "execution_count": 7,
   "metadata": {},
   "outputs": [],
   "source": [
    "young_ones1 = Youngfolks(\"abc\",\"abc@xyz.com\",\"abc@123\",\"abcdef\",\"912345678\",\"4\")\n",
    "young_ones2 = Youngfolks(\"abc1\",\"abc1@xyz.com\",\"abc1@123\",\"abcdef1\",\"912345678\",\"9\")\n",
    "young_ones3 = Youngfolks(\"abc2\",\"abc2@xyz.com\",\"abc2@123\",\"abcdef2\",\"912345678\",\"8\")\n",
    "young_ones4 = Youngfolks(\"abc3\",\"abc3@xyz.com\",\"abc3@123\",\"abcdef3\",\"912345678\",\"9\")"
   ]
  },
  {
   "cell_type": "code",
   "execution_count": 24,
   "metadata": {},
   "outputs": [
    {
     "name": "stdout",
     "output_type": "stream",
     "text": [
      "[<__main__.Youngfolks object at 0x06C947F0>, <__main__.Youngfolks object at 0x06C94930>, <__main__.Youngfolks object at 0x06C94910>, <__main__.Youngfolks object at 0x06C94A30>]\n"
     ]
    }
   ],
   "source": [
    "print(Youngfolks.young_folks)"
   ]
  },
  {
   "cell_type": "code",
   "execution_count": null,
   "metadata": {},
   "outputs": [],
   "source": []
  }
 ],
 "metadata": {
  "kernelspec": {
   "display_name": "Python 3",
   "language": "python",
   "name": "python3"
  },
  "language_info": {
   "codemirror_mode": {
    "name": "ipython",
    "version": 3
   },
   "file_extension": ".py",
   "mimetype": "text/x-python",
   "name": "python",
   "nbconvert_exporter": "python",
   "pygments_lexer": "ipython3",
   "version": "3.7.6"
  }
 },
 "nbformat": 4,
 "nbformat_minor": 4
}
